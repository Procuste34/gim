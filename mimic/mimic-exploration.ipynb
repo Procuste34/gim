{
 "cells": [
  {
   "cell_type": "markdown",
   "id": "0cbe8cd3-9117-414e-87a7-6d59bc6c8698",
   "metadata": {},
   "source": [
    "# MIMIC-III (<span style=\"color:red\">ATTENTION : les données dans mimic-iii correspondent à la base de données demo, seulement 100 patients répertoriés. La base entière fait 43 Go</span>)"
   ]
  },
  {
   "cell_type": "markdown",
   "id": "dd252b6a-9ed7-46d3-b922-fd304956a9c3",
   "metadata": {},
   "source": [
    "### Infos sur la dataset : https://physionet.org/content/mimiciii/1.4/, https://mimic.mit.edu/"
   ]
  },
  {
   "cell_type": "markdown",
   "id": "846c2f88-5535-4245-9b54-5ea2c3783ffc",
   "metadata": {},
   "source": [
    "26 tables... quelles sont celles qui nous intéresse ? description des tables : https://mimic.mit.edu/docs/iii/tables/\n",
    "\n",
    "### les 2 plus importantes :\n",
    "- PRESCRIPTIONS.csv : médicaments donnés à chaque patient (date de début+fin d'administration)\n",
    "- DIAGNOSES_ICD.csv : maladies diagnostiquées (ICD-9 et patient id)\n",
    "\n",
    "### à savoir : \n",
    "\n",
    "- PATIENTS.csv : répertorie les patients, leur genre, date d'admission+sortie\n",
    "- D_ICD_DIAGNOSES.csv et D_ICD_PROCEDURES.csv : associe le code ICD9 de chaque maladie à son nom (ex:01730 <-> tuberculosis of the eye)\n",
    "- DRGCODES.csv : symptomes de chaque patient (je crois)\n",
    "- MICROBIOLOGYEVENTS.csv : analyses biologiques des patients \n"
   ]
  },
  {
   "cell_type": "code",
   "execution_count": 1,
   "id": "179bdaba-1e95-4b70-a8be-bf894ca21f39",
   "metadata": {},
   "outputs": [],
   "source": [
    "import numpy as np\n",
    "import pandas as pd\n",
    "\n",
    "import matplotlib.pyplot as plt"
   ]
  },
  {
   "cell_type": "markdown",
   "id": "06552dd5-e364-4d0e-8e49-6eaf385ca8f3",
   "metadata": {},
   "source": [
    "## Exploration de DIAGNOSES_ICD.csv"
   ]
  },
  {
   "cell_type": "code",
   "execution_count": 2,
   "id": "97987b76-b4c9-4864-94ef-6506fd353217",
   "metadata": {},
   "outputs": [],
   "source": [
    "df = pd.read_csv(\"mimic-iii/DIAGNOSES_ICD.csv\")"
   ]
  },
  {
   "cell_type": "code",
   "execution_count": 3,
   "id": "98daf997-955e-4b8b-a0e1-04b4593c21fa",
   "metadata": {},
   "outputs": [
    {
     "data": {
      "text/html": [
       "<div>\n",
       "<style scoped>\n",
       "    .dataframe tbody tr th:only-of-type {\n",
       "        vertical-align: middle;\n",
       "    }\n",
       "\n",
       "    .dataframe tbody tr th {\n",
       "        vertical-align: top;\n",
       "    }\n",
       "\n",
       "    .dataframe thead th {\n",
       "        text-align: right;\n",
       "    }\n",
       "</style>\n",
       "<table border=\"1\" class=\"dataframe\">\n",
       "  <thead>\n",
       "    <tr style=\"text-align: right;\">\n",
       "      <th></th>\n",
       "      <th>row_id</th>\n",
       "      <th>subject_id</th>\n",
       "      <th>hadm_id</th>\n",
       "      <th>seq_num</th>\n",
       "      <th>icd9_code</th>\n",
       "    </tr>\n",
       "  </thead>\n",
       "  <tbody>\n",
       "    <tr>\n",
       "      <th>0</th>\n",
       "      <td>112344</td>\n",
       "      <td>10006</td>\n",
       "      <td>142345</td>\n",
       "      <td>1</td>\n",
       "      <td>99591</td>\n",
       "    </tr>\n",
       "    <tr>\n",
       "      <th>1</th>\n",
       "      <td>112345</td>\n",
       "      <td>10006</td>\n",
       "      <td>142345</td>\n",
       "      <td>2</td>\n",
       "      <td>99662</td>\n",
       "    </tr>\n",
       "    <tr>\n",
       "      <th>2</th>\n",
       "      <td>112346</td>\n",
       "      <td>10006</td>\n",
       "      <td>142345</td>\n",
       "      <td>3</td>\n",
       "      <td>5672</td>\n",
       "    </tr>\n",
       "    <tr>\n",
       "      <th>3</th>\n",
       "      <td>112347</td>\n",
       "      <td>10006</td>\n",
       "      <td>142345</td>\n",
       "      <td>4</td>\n",
       "      <td>40391</td>\n",
       "    </tr>\n",
       "    <tr>\n",
       "      <th>4</th>\n",
       "      <td>112348</td>\n",
       "      <td>10006</td>\n",
       "      <td>142345</td>\n",
       "      <td>5</td>\n",
       "      <td>42731</td>\n",
       "    </tr>\n",
       "  </tbody>\n",
       "</table>\n",
       "</div>"
      ],
      "text/plain": [
       "   row_id  subject_id  hadm_id  seq_num icd9_code\n",
       "0  112344       10006   142345        1     99591\n",
       "1  112345       10006   142345        2     99662\n",
       "2  112346       10006   142345        3      5672\n",
       "3  112347       10006   142345        4     40391\n",
       "4  112348       10006   142345        5     42731"
      ]
     },
     "execution_count": 3,
     "metadata": {},
     "output_type": "execute_result"
    }
   ],
   "source": [
    "df.head()"
   ]
  },
  {
   "cell_type": "code",
   "execution_count": 4,
   "id": "bff0210b-4857-4db0-8b22-d138c358557a",
   "metadata": {},
   "outputs": [
    {
     "data": {
      "text/plain": [
       "(1761, 5)"
      ]
     },
     "execution_count": 4,
     "metadata": {},
     "output_type": "execute_result"
    }
   ],
   "source": [
    "df.shape"
   ]
  },
  {
   "cell_type": "markdown",
   "id": "47f08cf6-5ab2-494e-a0bc-ed6e58dd8a62",
   "metadata": {},
   "source": [
    "#### cb de maladies différentes ? 581, pour 100 patients"
   ]
  },
  {
   "cell_type": "code",
   "execution_count": 5,
   "id": "ae200a99-b54b-4ead-8bc3-d75b3a03e2fd",
   "metadata": {},
   "outputs": [
    {
     "data": {
      "text/plain": [
       "581"
      ]
     },
     "execution_count": 5,
     "metadata": {},
     "output_type": "execute_result"
    }
   ],
   "source": [
    "df['icd9_code'].nunique()"
   ]
  },
  {
   "cell_type": "code",
   "execution_count": 6,
   "id": "53cf4c99-31d2-4996-90c0-34a47232ea97",
   "metadata": {},
   "outputs": [
    {
     "data": {
      "text/plain": [
       "100"
      ]
     },
     "execution_count": 6,
     "metadata": {},
     "output_type": "execute_result"
    }
   ],
   "source": [
    "df['subject_id'].nunique()"
   ]
  },
  {
   "cell_type": "markdown",
   "id": "2f6cad3b-a6af-4d1b-b150-f2ef83c4c7fe",
   "metadata": {},
   "source": [
    "#### -> plusieurs maladies par patient"
   ]
  },
  {
   "cell_type": "markdown",
   "id": "e49fbf06-d778-4417-aedb-bd092326b6d8",
   "metadata": {},
   "source": [
    "#### repartition de ces maladies ?"
   ]
  },
  {
   "cell_type": "code",
   "execution_count": 7,
   "id": "44992136-65a0-4aac-a95f-1cd04369b093",
   "metadata": {},
   "outputs": [
    {
     "data": {
      "text/plain": [
       "4019     53\n",
       "42731    48\n",
       "5849     45\n",
       "4280     39\n",
       "25000    31\n",
       "         ..\n",
       "8730      1\n",
       "3361      1\n",
       "E8231     1\n",
       "34401     1\n",
       "45182     1\n",
       "Name: icd9_code, Length: 581, dtype: int64"
      ]
     },
     "execution_count": 7,
     "metadata": {},
     "output_type": "execute_result"
    }
   ],
   "source": [
    "dp = df['icd9_code'].value_counts()\n",
    "dp"
   ]
  },
  {
   "cell_type": "code",
   "execution_count": 8,
   "id": "296e1297-cd26-4589-bdf6-b42af0f9c6d7",
   "metadata": {},
   "outputs": [
    {
     "data": {
      "text/plain": [
       "True     322\n",
       "False    259\n",
       "Name: icd9_code, dtype: int64"
      ]
     },
     "execution_count": 8,
     "metadata": {},
     "output_type": "execute_result"
    }
   ],
   "source": [
    "(dp==1).value_counts()"
   ]
  },
  {
   "cell_type": "markdown",
   "id": "70de4e5f-e130-4d38-9c9c-cebd78ab1a21",
   "metadata": {},
   "source": [
    "#### -> bcp de ces 581 maladies (322) n'apparaissent qu'une fois dans la base"
   ]
  },
  {
   "cell_type": "code",
   "execution_count": 9,
   "id": "12eb857c-ccd0-4f87-b211-f14b44489e99",
   "metadata": {},
   "outputs": [
    {
     "data": {
      "text/plain": [
       "True     505\n",
       "False     76\n",
       "Name: icd9_code, dtype: int64"
      ]
     },
     "execution_count": 9,
     "metadata": {},
     "output_type": "execute_result"
    }
   ],
   "source": [
    "(dp<5).value_counts()"
   ]
  },
  {
   "cell_type": "markdown",
   "id": "c3f53478-322d-403f-b441-cb87ffa4febc",
   "metadata": {},
   "source": [
    "#### -> la plupart de ces maladies (505) apparaissent moins de 5 fois dans la base"
   ]
  },
  {
   "cell_type": "code",
   "execution_count": null,
   "id": "23a00494-deeb-4439-903c-d8b75544a074",
   "metadata": {},
   "outputs": [],
   "source": []
  },
  {
   "cell_type": "code",
   "execution_count": 10,
   "id": "cd6cddc6-f35e-470b-ad44-0fbda30128d4",
   "metadata": {},
   "outputs": [
    {
     "data": {
      "text/plain": [
       "100"
      ]
     },
     "execution_count": 10,
     "metadata": {},
     "output_type": "execute_result"
    }
   ],
   "source": [
    "df['subject_id'].nunique()"
   ]
  },
  {
   "cell_type": "markdown",
   "id": "9daa800b-39bd-49e3-9f0b-c75c47cc551a",
   "metadata": {},
   "source": [
    "#### -> 100 patients seulement ont eu des maladies"
   ]
  },
  {
   "cell_type": "code",
   "execution_count": 14,
   "id": "1a0c9dc7-6f46-4688-a8fe-2efc9ff23516",
   "metadata": {},
   "outputs": [],
   "source": [
    "patients = pd.read_csv(\"mimic-iii/PATIENTS.csv\")"
   ]
  },
  {
   "cell_type": "code",
   "execution_count": 19,
   "id": "217a2a22-7bec-4cdd-8964-8f8c2e9cad96",
   "metadata": {},
   "outputs": [
    {
     "data": {
      "text/html": [
       "<div>\n",
       "<style scoped>\n",
       "    .dataframe tbody tr th:only-of-type {\n",
       "        vertical-align: middle;\n",
       "    }\n",
       "\n",
       "    .dataframe tbody tr th {\n",
       "        vertical-align: top;\n",
       "    }\n",
       "\n",
       "    .dataframe thead th {\n",
       "        text-align: right;\n",
       "    }\n",
       "</style>\n",
       "<table border=\"1\" class=\"dataframe\">\n",
       "  <thead>\n",
       "    <tr style=\"text-align: right;\">\n",
       "      <th></th>\n",
       "      <th>row_id</th>\n",
       "      <th>subject_id</th>\n",
       "      <th>gender</th>\n",
       "      <th>dob</th>\n",
       "      <th>dod</th>\n",
       "      <th>dod_hosp</th>\n",
       "      <th>dod_ssn</th>\n",
       "      <th>expire_flag</th>\n",
       "    </tr>\n",
       "  </thead>\n",
       "  <tbody>\n",
       "    <tr>\n",
       "      <th>0</th>\n",
       "      <td>9467</td>\n",
       "      <td>10006</td>\n",
       "      <td>F</td>\n",
       "      <td>2094-03-05 00:00:00</td>\n",
       "      <td>2165-08-12 00:00:00</td>\n",
       "      <td>2165-08-12 00:00:00</td>\n",
       "      <td>2165-08-12 00:00:00</td>\n",
       "      <td>1</td>\n",
       "    </tr>\n",
       "    <tr>\n",
       "      <th>1</th>\n",
       "      <td>9472</td>\n",
       "      <td>10011</td>\n",
       "      <td>F</td>\n",
       "      <td>2090-06-05 00:00:00</td>\n",
       "      <td>2126-08-28 00:00:00</td>\n",
       "      <td>2126-08-28 00:00:00</td>\n",
       "      <td>NaN</td>\n",
       "      <td>1</td>\n",
       "    </tr>\n",
       "    <tr>\n",
       "      <th>2</th>\n",
       "      <td>9474</td>\n",
       "      <td>10013</td>\n",
       "      <td>F</td>\n",
       "      <td>2038-09-03 00:00:00</td>\n",
       "      <td>2125-10-07 00:00:00</td>\n",
       "      <td>2125-10-07 00:00:00</td>\n",
       "      <td>2125-10-07 00:00:00</td>\n",
       "      <td>1</td>\n",
       "    </tr>\n",
       "    <tr>\n",
       "      <th>3</th>\n",
       "      <td>9478</td>\n",
       "      <td>10017</td>\n",
       "      <td>F</td>\n",
       "      <td>2075-09-21 00:00:00</td>\n",
       "      <td>2152-09-12 00:00:00</td>\n",
       "      <td>NaN</td>\n",
       "      <td>2152-09-12 00:00:00</td>\n",
       "      <td>1</td>\n",
       "    </tr>\n",
       "    <tr>\n",
       "      <th>4</th>\n",
       "      <td>9479</td>\n",
       "      <td>10019</td>\n",
       "      <td>M</td>\n",
       "      <td>2114-06-20 00:00:00</td>\n",
       "      <td>2163-05-15 00:00:00</td>\n",
       "      <td>2163-05-15 00:00:00</td>\n",
       "      <td>2163-05-15 00:00:00</td>\n",
       "      <td>1</td>\n",
       "    </tr>\n",
       "    <tr>\n",
       "      <th>...</th>\n",
       "      <td>...</td>\n",
       "      <td>...</td>\n",
       "      <td>...</td>\n",
       "      <td>...</td>\n",
       "      <td>...</td>\n",
       "      <td>...</td>\n",
       "      <td>...</td>\n",
       "      <td>...</td>\n",
       "    </tr>\n",
       "    <tr>\n",
       "      <th>95</th>\n",
       "      <td>31838</td>\n",
       "      <td>44083</td>\n",
       "      <td>M</td>\n",
       "      <td>2057-11-15 00:00:00</td>\n",
       "      <td>2114-02-20 00:00:00</td>\n",
       "      <td>2114-02-20 00:00:00</td>\n",
       "      <td>2114-02-20 00:00:00</td>\n",
       "      <td>1</td>\n",
       "    </tr>\n",
       "    <tr>\n",
       "      <th>96</th>\n",
       "      <td>31853</td>\n",
       "      <td>44154</td>\n",
       "      <td>M</td>\n",
       "      <td>1878-05-14 00:00:00</td>\n",
       "      <td>2178-05-15 00:00:00</td>\n",
       "      <td>2178-05-15 00:00:00</td>\n",
       "      <td>2178-05-15 00:00:00</td>\n",
       "      <td>1</td>\n",
       "    </tr>\n",
       "    <tr>\n",
       "      <th>97</th>\n",
       "      <td>31867</td>\n",
       "      <td>44212</td>\n",
       "      <td>F</td>\n",
       "      <td>2078-06-16 00:00:00</td>\n",
       "      <td>2124-01-29 00:00:00</td>\n",
       "      <td>NaN</td>\n",
       "      <td>2124-01-29 00:00:00</td>\n",
       "      <td>1</td>\n",
       "    </tr>\n",
       "    <tr>\n",
       "      <th>98</th>\n",
       "      <td>31870</td>\n",
       "      <td>44222</td>\n",
       "      <td>M</td>\n",
       "      <td>2107-06-27 00:00:00</td>\n",
       "      <td>2182-08-03 00:00:00</td>\n",
       "      <td>2182-08-03 00:00:00</td>\n",
       "      <td>NaN</td>\n",
       "      <td>1</td>\n",
       "    </tr>\n",
       "    <tr>\n",
       "      <th>99</th>\n",
       "      <td>31872</td>\n",
       "      <td>44228</td>\n",
       "      <td>F</td>\n",
       "      <td>2112-10-22 00:00:00</td>\n",
       "      <td>2171-04-14 00:00:00</td>\n",
       "      <td>2171-04-14 00:00:00</td>\n",
       "      <td>NaN</td>\n",
       "      <td>1</td>\n",
       "    </tr>\n",
       "  </tbody>\n",
       "</table>\n",
       "<p>100 rows × 8 columns</p>\n",
       "</div>"
      ],
      "text/plain": [
       "    row_id  subject_id gender                  dob                  dod  \\\n",
       "0     9467       10006      F  2094-03-05 00:00:00  2165-08-12 00:00:00   \n",
       "1     9472       10011      F  2090-06-05 00:00:00  2126-08-28 00:00:00   \n",
       "2     9474       10013      F  2038-09-03 00:00:00  2125-10-07 00:00:00   \n",
       "3     9478       10017      F  2075-09-21 00:00:00  2152-09-12 00:00:00   \n",
       "4     9479       10019      M  2114-06-20 00:00:00  2163-05-15 00:00:00   \n",
       "..     ...         ...    ...                  ...                  ...   \n",
       "95   31838       44083      M  2057-11-15 00:00:00  2114-02-20 00:00:00   \n",
       "96   31853       44154      M  1878-05-14 00:00:00  2178-05-15 00:00:00   \n",
       "97   31867       44212      F  2078-06-16 00:00:00  2124-01-29 00:00:00   \n",
       "98   31870       44222      M  2107-06-27 00:00:00  2182-08-03 00:00:00   \n",
       "99   31872       44228      F  2112-10-22 00:00:00  2171-04-14 00:00:00   \n",
       "\n",
       "               dod_hosp              dod_ssn  expire_flag  \n",
       "0   2165-08-12 00:00:00  2165-08-12 00:00:00            1  \n",
       "1   2126-08-28 00:00:00                  NaN            1  \n",
       "2   2125-10-07 00:00:00  2125-10-07 00:00:00            1  \n",
       "3                   NaN  2152-09-12 00:00:00            1  \n",
       "4   2163-05-15 00:00:00  2163-05-15 00:00:00            1  \n",
       "..                  ...                  ...          ...  \n",
       "95  2114-02-20 00:00:00  2114-02-20 00:00:00            1  \n",
       "96  2178-05-15 00:00:00  2178-05-15 00:00:00            1  \n",
       "97                  NaN  2124-01-29 00:00:00            1  \n",
       "98  2182-08-03 00:00:00                  NaN            1  \n",
       "99  2171-04-14 00:00:00                  NaN            1  \n",
       "\n",
       "[100 rows x 8 columns]"
      ]
     },
     "execution_count": 19,
     "metadata": {},
     "output_type": "execute_result"
    }
   ],
   "source": [
    "patients"
   ]
  },
  {
   "cell_type": "code",
   "execution_count": null,
   "id": "73522945-24a3-4c8b-a9b7-40ef053648e7",
   "metadata": {},
   "outputs": [],
   "source": []
  },
  {
   "cell_type": "code",
   "execution_count": null,
   "id": "8adfbe78-1f53-46f5-83e3-30c943fd836e",
   "metadata": {},
   "outputs": [],
   "source": []
  },
  {
   "cell_type": "code",
   "execution_count": null,
   "id": "7f733de8-8a60-4dcd-ba9a-acbbee7d7c05",
   "metadata": {},
   "outputs": [],
   "source": []
  },
  {
   "cell_type": "markdown",
   "id": "e5210bb9-70c6-4269-8002-bf1945d9a7ab",
   "metadata": {},
   "source": [
    "# ML"
   ]
  },
  {
   "cell_type": "markdown",
   "id": "4e867ca8-582b-4fbb-94e9-c8751f5ed286",
   "metadata": {},
   "source": [
    "https://github.com/MLforHealth/MIMIC_Extract/tree/master/notebooks : Baselines for Mortality and LOS prediction (sklearn)"
   ]
  },
  {
   "cell_type": "code",
   "execution_count": null,
   "id": "b60163a1-4d1d-4938-99fd-86db7bb184d2",
   "metadata": {},
   "outputs": [],
   "source": []
  }
 ],
 "metadata": {
  "kernelspec": {
   "display_name": "Python 3 (ipykernel)",
   "language": "python",
   "name": "python3"
  },
  "language_info": {
   "codemirror_mode": {
    "name": "ipython",
    "version": 3
   },
   "file_extension": ".py",
   "mimetype": "text/x-python",
   "name": "python",
   "nbconvert_exporter": "python",
   "pygments_lexer": "ipython3",
   "version": "3.10.6"
  }
 },
 "nbformat": 4,
 "nbformat_minor": 5
}
