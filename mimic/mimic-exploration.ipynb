{
 "cells": [
  {
   "cell_type": "markdown",
   "id": "0cbe8cd3-9117-414e-87a7-6d59bc6c8698",
   "metadata": {},
   "source": [
    "# MIMIC-III (<span style=\"color:red\">ATTENTION : les données dans mimic-iii correspondent à la base de données demo, seulement 100 patients répertoriés. La base entière fait 43 Go</span>)"
   ]
  },
  {
   "cell_type": "markdown",
   "id": "dd252b6a-9ed7-46d3-b922-fd304956a9c3",
   "metadata": {},
   "source": [
    "### Infos sur la dataset : https://physionet.org/content/mimiciii/1.4/, https://mimic.mit.edu/"
   ]
  },
  {
   "cell_type": "markdown",
   "id": "846c2f88-5535-4245-9b54-5ea2c3783ffc",
   "metadata": {},
   "source": [
    "26 tables... quelles sont celles qui nous intéresse ? description des tables : https://mimic.mit.edu/docs/iii/tables/\n",
    "\n",
    "### les 2 plus importantes :\n",
    "- PRESCRIPTIONS.csv : médicaments donnés à chaque patient (date de début+fin d'administration)\n",
    "- DIAGNOSES_ICD.csv : maladies diagnostiquées (ICD-9 et patient id)\n",
    "\n",
    "### à savoir : \n",
    "\n",
    "- PATIENTS.csv : répertorie les patients, leur genre, date d'admission+sortie\n",
    "- D_ICD_DIAGNOSES.csv et D_ICD_PROCEDURES.csv : associe le code ICD9 de chaque maladie à son nom (ex:01730 <-> tuberculosis of the eye)\n",
    "- DRGCODES.csv : symptomes de chaque patient (je crois)\n",
    "- MICROBIOLOGYEVENTS.csv : analyses biologiques des patients \n"
   ]
  },
  {
   "cell_type": "code",
   "execution_count": 22,
   "id": "179bdaba-1e95-4b70-a8be-bf894ca21f39",
   "metadata": {},
   "outputs": [],
   "source": [
    "import numpy as np\n",
    "import pandas as pd\n",
    "\n",
    "import matplotlib.pyplot as plt"
   ]
  },
  {
   "cell_type": "markdown",
   "id": "06552dd5-e364-4d0e-8e49-6eaf385ca8f3",
   "metadata": {},
   "source": [
    "## Exploration de DIAGNOSES_ICD.csv"
   ]
  },
  {
   "cell_type": "code",
   "execution_count": 23,
   "id": "97987b76-b4c9-4864-94ef-6506fd353217",
   "metadata": {},
   "outputs": [],
   "source": [
    "df = pd.read_csv(\"mimic-iii-complet/DIAGNOSES_ICD.csv\")"
   ]
  },
  {
   "cell_type": "code",
   "execution_count": 24,
   "id": "98daf997-955e-4b8b-a0e1-04b4593c21fa",
   "metadata": {},
   "outputs": [
    {
     "data": {
      "text/html": [
       "<div>\n",
       "<style scoped>\n",
       "    .dataframe tbody tr th:only-of-type {\n",
       "        vertical-align: middle;\n",
       "    }\n",
       "\n",
       "    .dataframe tbody tr th {\n",
       "        vertical-align: top;\n",
       "    }\n",
       "\n",
       "    .dataframe thead th {\n",
       "        text-align: right;\n",
       "    }\n",
       "</style>\n",
       "<table border=\"1\" class=\"dataframe\">\n",
       "  <thead>\n",
       "    <tr style=\"text-align: right;\">\n",
       "      <th></th>\n",
       "      <th>ROW_ID</th>\n",
       "      <th>SUBJECT_ID</th>\n",
       "      <th>HADM_ID</th>\n",
       "      <th>SEQ_NUM</th>\n",
       "      <th>ICD9_CODE</th>\n",
       "    </tr>\n",
       "  </thead>\n",
       "  <tbody>\n",
       "    <tr>\n",
       "      <th>0</th>\n",
       "      <td>1297</td>\n",
       "      <td>109</td>\n",
       "      <td>172335</td>\n",
       "      <td>1.0</td>\n",
       "      <td>40301</td>\n",
       "    </tr>\n",
       "    <tr>\n",
       "      <th>1</th>\n",
       "      <td>1298</td>\n",
       "      <td>109</td>\n",
       "      <td>172335</td>\n",
       "      <td>2.0</td>\n",
       "      <td>486</td>\n",
       "    </tr>\n",
       "    <tr>\n",
       "      <th>2</th>\n",
       "      <td>1299</td>\n",
       "      <td>109</td>\n",
       "      <td>172335</td>\n",
       "      <td>3.0</td>\n",
       "      <td>58281</td>\n",
       "    </tr>\n",
       "    <tr>\n",
       "      <th>3</th>\n",
       "      <td>1300</td>\n",
       "      <td>109</td>\n",
       "      <td>172335</td>\n",
       "      <td>4.0</td>\n",
       "      <td>5855</td>\n",
       "    </tr>\n",
       "    <tr>\n",
       "      <th>4</th>\n",
       "      <td>1301</td>\n",
       "      <td>109</td>\n",
       "      <td>172335</td>\n",
       "      <td>5.0</td>\n",
       "      <td>4254</td>\n",
       "    </tr>\n",
       "  </tbody>\n",
       "</table>\n",
       "</div>"
      ],
      "text/plain": [
       "   ROW_ID  SUBJECT_ID  HADM_ID  SEQ_NUM ICD9_CODE\n",
       "0    1297         109   172335      1.0     40301\n",
       "1    1298         109   172335      2.0       486\n",
       "2    1299         109   172335      3.0     58281\n",
       "3    1300         109   172335      4.0      5855\n",
       "4    1301         109   172335      5.0      4254"
      ]
     },
     "execution_count": 24,
     "metadata": {},
     "output_type": "execute_result"
    }
   ],
   "source": [
    "df.head()"
   ]
  },
  {
   "cell_type": "code",
   "execution_count": 25,
   "id": "bff0210b-4857-4db0-8b22-d138c358557a",
   "metadata": {},
   "outputs": [
    {
     "data": {
      "text/plain": [
       "(651047, 5)"
      ]
     },
     "execution_count": 25,
     "metadata": {},
     "output_type": "execute_result"
    }
   ],
   "source": [
    "df.shape"
   ]
  },
  {
   "cell_type": "markdown",
   "id": "47f08cf6-5ab2-494e-a0bc-ed6e58dd8a62",
   "metadata": {},
   "source": [
    "#### cb de maladies différentes ? 6984 maladies pour 46520 patients"
   ]
  },
  {
   "cell_type": "code",
   "execution_count": 27,
   "id": "ae200a99-b54b-4ead-8bc3-d75b3a03e2fd",
   "metadata": {},
   "outputs": [
    {
     "data": {
      "text/plain": [
       "6984"
      ]
     },
     "execution_count": 27,
     "metadata": {},
     "output_type": "execute_result"
    }
   ],
   "source": [
    "df['ICD9_CODE'].nunique()"
   ]
  },
  {
   "cell_type": "code",
   "execution_count": 28,
   "id": "53cf4c99-31d2-4996-90c0-34a47232ea97",
   "metadata": {},
   "outputs": [
    {
     "data": {
      "text/plain": [
       "46520"
      ]
     },
     "execution_count": 28,
     "metadata": {},
     "output_type": "execute_result"
    }
   ],
   "source": [
    "df['SUBJECT_ID'].nunique()"
   ]
  },
  {
   "cell_type": "markdown",
   "id": "e49fbf06-d778-4417-aedb-bd092326b6d8",
   "metadata": {},
   "source": [
    "#### repartition de ces maladies ?"
   ]
  },
  {
   "cell_type": "code",
   "execution_count": 29,
   "id": "44992136-65a0-4aac-a95f-1cd04369b093",
   "metadata": {},
   "outputs": [
    {
     "data": {
      "text/plain": [
       "4019     20703\n",
       "4280     13111\n",
       "42731    12891\n",
       "41401    12429\n",
       "5849      9119\n",
       "         ...  \n",
       "1270         1\n",
       "E9659        1\n",
       "71926        1\n",
       "9593         1\n",
       "20930        1\n",
       "Name: ICD9_CODE, Length: 6984, dtype: int64"
      ]
     },
     "execution_count": 29,
     "metadata": {},
     "output_type": "execute_result"
    }
   ],
   "source": [
    "dp = df['ICD9_CODE'].value_counts()\n",
    "dp"
   ]
  },
  {
   "cell_type": "code",
   "execution_count": 30,
   "id": "296e1297-cd26-4589-bdf6-b42af0f9c6d7",
   "metadata": {},
   "outputs": [
    {
     "data": {
      "text/plain": [
       "False    5481\n",
       "True     1503\n",
       "Name: ICD9_CODE, dtype: int64"
      ]
     },
     "execution_count": 30,
     "metadata": {},
     "output_type": "execute_result"
    }
   ],
   "source": [
    "(dp==1).value_counts()"
   ]
  },
  {
   "cell_type": "markdown",
   "id": "70de4e5f-e130-4d38-9c9c-cebd78ab1a21",
   "metadata": {},
   "source": [
    "#### -> bcp de ces maladies (1500) n'apparaissent qu'une fois dans la base"
   ]
  },
  {
   "cell_type": "code",
   "execution_count": 31,
   "id": "12eb857c-ccd0-4f87-b211-f14b44489e99",
   "metadata": {},
   "outputs": [
    {
     "data": {
      "text/plain": [
       "False    3874\n",
       "True     3110\n",
       "Name: ICD9_CODE, dtype: int64"
      ]
     },
     "execution_count": 31,
     "metadata": {},
     "output_type": "execute_result"
    }
   ],
   "source": [
    "(dp<5).value_counts()"
   ]
  },
  {
   "cell_type": "markdown",
   "id": "c3f53478-322d-403f-b441-cb87ffa4febc",
   "metadata": {},
   "source": [
    "#### -> la moitié de ces maladies (3100) apparaissent moins de 5 fois dans la base"
   ]
  },
  {
   "cell_type": "code",
   "execution_count": null,
   "id": "23a00494-deeb-4439-903c-d8b75544a074",
   "metadata": {},
   "outputs": [],
   "source": []
  },
  {
   "cell_type": "code",
   "execution_count": 32,
   "id": "1a0c9dc7-6f46-4688-a8fe-2efc9ff23516",
   "metadata": {},
   "outputs": [],
   "source": [
    "patients = pd.read_csv(\"mimic-iii-complet/PATIENTS.csv\")"
   ]
  },
  {
   "cell_type": "code",
   "execution_count": 34,
   "id": "217a2a22-7bec-4cdd-8964-8f8c2e9cad96",
   "metadata": {},
   "outputs": [
    {
     "data": {
      "text/plain": [
       "46520"
      ]
     },
     "execution_count": 34,
     "metadata": {},
     "output_type": "execute_result"
    }
   ],
   "source": [
    "patients[\"SUBJECT_ID\"].nunique()"
   ]
  },
  {
   "cell_type": "code",
   "execution_count": null,
   "id": "8adfbe78-1f53-46f5-83e3-30c943fd836e",
   "metadata": {},
   "outputs": [],
   "source": []
  },
  {
   "cell_type": "code",
   "execution_count": null,
   "id": "7f733de8-8a60-4dcd-ba9a-acbbee7d7c05",
   "metadata": {},
   "outputs": [],
   "source": []
  },
  {
   "cell_type": "markdown",
   "id": "e5210bb9-70c6-4269-8002-bf1945d9a7ab",
   "metadata": {},
   "source": [
    "# ML"
   ]
  },
  {
   "cell_type": "markdown",
   "id": "4e867ca8-582b-4fbb-94e9-c8751f5ed286",
   "metadata": {},
   "source": [
    "https://github.com/MLforHealth/MIMIC_Extract/tree/master/notebooks : Baselines for Mortality and LOS prediction (sklearn)"
   ]
  },
  {
   "cell_type": "code",
   "execution_count": null,
   "id": "b60163a1-4d1d-4938-99fd-86db7bb184d2",
   "metadata": {},
   "outputs": [],
   "source": []
  }
 ],
 "metadata": {
  "kernelspec": {
   "display_name": "Python 3 (ipykernel)",
   "language": "python",
   "name": "python3"
  },
  "language_info": {
   "codemirror_mode": {
    "name": "ipython",
    "version": 3
   },
   "file_extension": ".py",
   "mimetype": "text/x-python",
   "name": "python",
   "nbconvert_exporter": "python",
   "pygments_lexer": "ipython3",
   "version": "3.10.6"
  }
 },
 "nbformat": 4,
 "nbformat_minor": 5
}
