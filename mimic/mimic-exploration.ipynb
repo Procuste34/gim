{
 "cells": [
  {
   "cell_type": "markdown",
   "id": "0cbe8cd3-9117-414e-87a7-6d59bc6c8698",
   "metadata": {},
   "source": [
    "# MIMIC-III"
   ]
  },
  {
   "cell_type": "markdown",
   "id": "dd252b6a-9ed7-46d3-b922-fd304956a9c3",
   "metadata": {},
   "source": [
    "### Infos sur la dataset : https://physionet.org/content/mimiciii/1.4/"
   ]
  },
  {
   "cell_type": "markdown",
   "id": "846c2f88-5535-4245-9b54-5ea2c3783ffc",
   "metadata": {},
   "source": [
    "26 tables... quelles sont celles qui nous intéresse ?\n",
    "\n",
    "### les 2 plus importantes :\n",
    "- PRESCRIPTIONS.csv : médicaments donnés à chaque patient (date de début+fin d'administration)\n",
    "- DIAGNOSES_ICD.csv : maladies diagnostiquées (ICD-9 et patient id)\n",
    "\n",
    "### à savoir : \n",
    "\n",
    "- PATIENTS.csv : répertorie les patients, leur genre, date d'admission+sortie\n",
    "- D_ICD_DIAGNOSES.csv et D_ICD_PROCEDURES.csv : associe le code ICD9 de chaque maladie à son nom (ex:01730 <-> tuberculosis of the eye)\n",
    "- DRGCODES.csv : symptomes de chaque patient (je crois)\n",
    "- MICROBIOLOGYEVENTS.csv : analyses biologiques des patients \n"
   ]
  },
  {
   "cell_type": "code",
   "execution_count": 1,
   "id": "179bdaba-1e95-4b70-a8be-bf894ca21f39",
   "metadata": {},
   "outputs": [],
   "source": [
    "import numpy as np\n",
    "import pandas as pd\n",
    "\n",
    "import matplotlib.pyplot as plt"
   ]
  },
  {
   "cell_type": "markdown",
   "id": "06552dd5-e364-4d0e-8e49-6eaf385ca8f3",
   "metadata": {},
   "source": [
    "## Exploration de DIAGNOSES_ICD.csv"
   ]
  },
  {
   "cell_type": "code",
   "execution_count": 7,
   "id": "97987b76-b4c9-4864-94ef-6506fd353217",
   "metadata": {},
   "outputs": [],
   "source": [
    "df = pd.read_csv(\"mimic-iii/DIAGNOSES_ICD.csv\")"
   ]
  },
  {
   "cell_type": "code",
   "execution_count": 8,
   "id": "98daf997-955e-4b8b-a0e1-04b4593c21fa",
   "metadata": {},
   "outputs": [
    {
     "data": {
      "text/html": [
       "<div>\n",
       "<style scoped>\n",
       "    .dataframe tbody tr th:only-of-type {\n",
       "        vertical-align: middle;\n",
       "    }\n",
       "\n",
       "    .dataframe tbody tr th {\n",
       "        vertical-align: top;\n",
       "    }\n",
       "\n",
       "    .dataframe thead th {\n",
       "        text-align: right;\n",
       "    }\n",
       "</style>\n",
       "<table border=\"1\" class=\"dataframe\">\n",
       "  <thead>\n",
       "    <tr style=\"text-align: right;\">\n",
       "      <th></th>\n",
       "      <th>row_id</th>\n",
       "      <th>subject_id</th>\n",
       "      <th>hadm_id</th>\n",
       "      <th>seq_num</th>\n",
       "      <th>icd9_code</th>\n",
       "    </tr>\n",
       "  </thead>\n",
       "  <tbody>\n",
       "    <tr>\n",
       "      <th>0</th>\n",
       "      <td>112344</td>\n",
       "      <td>10006</td>\n",
       "      <td>142345</td>\n",
       "      <td>1</td>\n",
       "      <td>99591</td>\n",
       "    </tr>\n",
       "    <tr>\n",
       "      <th>1</th>\n",
       "      <td>112345</td>\n",
       "      <td>10006</td>\n",
       "      <td>142345</td>\n",
       "      <td>2</td>\n",
       "      <td>99662</td>\n",
       "    </tr>\n",
       "    <tr>\n",
       "      <th>2</th>\n",
       "      <td>112346</td>\n",
       "      <td>10006</td>\n",
       "      <td>142345</td>\n",
       "      <td>3</td>\n",
       "      <td>5672</td>\n",
       "    </tr>\n",
       "    <tr>\n",
       "      <th>3</th>\n",
       "      <td>112347</td>\n",
       "      <td>10006</td>\n",
       "      <td>142345</td>\n",
       "      <td>4</td>\n",
       "      <td>40391</td>\n",
       "    </tr>\n",
       "    <tr>\n",
       "      <th>4</th>\n",
       "      <td>112348</td>\n",
       "      <td>10006</td>\n",
       "      <td>142345</td>\n",
       "      <td>5</td>\n",
       "      <td>42731</td>\n",
       "    </tr>\n",
       "  </tbody>\n",
       "</table>\n",
       "</div>"
      ],
      "text/plain": [
       "   row_id  subject_id  hadm_id  seq_num icd9_code\n",
       "0  112344       10006   142345        1     99591\n",
       "1  112345       10006   142345        2     99662\n",
       "2  112346       10006   142345        3      5672\n",
       "3  112347       10006   142345        4     40391\n",
       "4  112348       10006   142345        5     42731"
      ]
     },
     "execution_count": 8,
     "metadata": {},
     "output_type": "execute_result"
    }
   ],
   "source": [
    "df.head()"
   ]
  },
  {
   "cell_type": "code",
   "execution_count": 9,
   "id": "bff0210b-4857-4db0-8b22-d138c358557a",
   "metadata": {},
   "outputs": [
    {
     "data": {
      "text/plain": [
       "(1761, 5)"
      ]
     },
     "execution_count": 9,
     "metadata": {},
     "output_type": "execute_result"
    }
   ],
   "source": [
    "df.shape"
   ]
  },
  {
   "cell_type": "markdown",
   "id": "47f08cf6-5ab2-494e-a0bc-ed6e58dd8a62",
   "metadata": {},
   "source": [
    "#### cb de maladies différentes ? 581, pour 100 patients"
   ]
  },
  {
   "cell_type": "code",
   "execution_count": 13,
   "id": "ae200a99-b54b-4ead-8bc3-d75b3a03e2fd",
   "metadata": {},
   "outputs": [
    {
     "data": {
      "text/plain": [
       "581"
      ]
     },
     "execution_count": 13,
     "metadata": {},
     "output_type": "execute_result"
    }
   ],
   "source": [
    "df['icd9_code'].nunique()"
   ]
  },
  {
   "cell_type": "code",
   "execution_count": 14,
   "id": "53cf4c99-31d2-4996-90c0-34a47232ea97",
   "metadata": {},
   "outputs": [
    {
     "data": {
      "text/plain": [
       "100"
      ]
     },
     "execution_count": 14,
     "metadata": {},
     "output_type": "execute_result"
    }
   ],
   "source": [
    "df['subject_id'].nunique()"
   ]
  },
  {
   "cell_type": "markdown",
   "id": "2f6cad3b-a6af-4d1b-b150-f2ef83c4c7fe",
   "metadata": {},
   "source": [
    "#### -> plusieurs maladies par patient"
   ]
  },
  {
   "cell_type": "markdown",
   "id": "e49fbf06-d778-4417-aedb-bd092326b6d8",
   "metadata": {},
   "source": [
    "#### repartition de ces maladies ?"
   ]
  },
  {
   "cell_type": "code",
   "execution_count": 18,
   "id": "44992136-65a0-4aac-a95f-1cd04369b093",
   "metadata": {},
   "outputs": [
    {
     "data": {
      "text/plain": [
       "4019     53\n",
       "42731    48\n",
       "5849     45\n",
       "4280     39\n",
       "25000    31\n",
       "         ..\n",
       "8730      1\n",
       "3361      1\n",
       "E8231     1\n",
       "34401     1\n",
       "45182     1\n",
       "Name: icd9_code, Length: 581, dtype: int64"
      ]
     },
     "execution_count": 18,
     "metadata": {},
     "output_type": "execute_result"
    }
   ],
   "source": [
    "dp = df['icd9_code'].value_counts()\n",
    "dp"
   ]
  },
  {
   "cell_type": "code",
   "execution_count": 28,
   "id": "296e1297-cd26-4589-bdf6-b42af0f9c6d7",
   "metadata": {},
   "outputs": [
    {
     "data": {
      "text/plain": [
       "True     322\n",
       "False    259\n",
       "Name: icd9_code, dtype: int64"
      ]
     },
     "execution_count": 28,
     "metadata": {},
     "output_type": "execute_result"
    }
   ],
   "source": [
    "(dp==1).value_counts()"
   ]
  },
  {
   "cell_type": "markdown",
   "id": "70de4e5f-e130-4d38-9c9c-cebd78ab1a21",
   "metadata": {},
   "source": [
    "#### -> bcp de ces 581 maladies (322) n'apparaissent qu'une fois dans la base"
   ]
  },
  {
   "cell_type": "code",
   "execution_count": 31,
   "id": "12eb857c-ccd0-4f87-b211-f14b44489e99",
   "metadata": {},
   "outputs": [
    {
     "data": {
      "text/plain": [
       "True     505\n",
       "False     76\n",
       "Name: icd9_code, dtype: int64"
      ]
     },
     "execution_count": 31,
     "metadata": {},
     "output_type": "execute_result"
    }
   ],
   "source": [
    "(dp<5).value_counts()"
   ]
  },
  {
   "cell_type": "markdown",
   "id": "c3f53478-322d-403f-b441-cb87ffa4febc",
   "metadata": {},
   "source": [
    "#### -> la plupart de ces maladies (505) apparaissent moins de 5 fois dans la base"
   ]
  },
  {
   "cell_type": "code",
   "execution_count": null,
   "id": "23a00494-deeb-4439-903c-d8b75544a074",
   "metadata": {},
   "outputs": [],
   "source": []
  }
 ],
 "metadata": {
  "kernelspec": {
   "display_name": "Python 3 (ipykernel)",
   "language": "python",
   "name": "python3"
  },
  "language_info": {
   "codemirror_mode": {
    "name": "ipython",
    "version": 3
   },
   "file_extension": ".py",
   "mimetype": "text/x-python",
   "name": "python",
   "nbconvert_exporter": "python",
   "pygments_lexer": "ipython3",
   "version": "3.10.6"
  }
 },
 "nbformat": 4,
 "nbformat_minor": 5
}
