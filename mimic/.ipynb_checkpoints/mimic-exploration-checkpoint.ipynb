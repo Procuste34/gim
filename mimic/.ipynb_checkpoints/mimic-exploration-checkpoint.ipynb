{
 "cells": [
  {
   "cell_type": "markdown",
   "id": "0cbe8cd3-9117-414e-87a7-6d59bc6c8698",
   "metadata": {},
   "source": [
    "# MIMIC-III (<span style=\"color:red\">ATTENTION : les données dans mimic-iii correspondent à la base de données demo, seulement 100 patients répertoriés. La base entière fait 43 Go</span>)"
   ]
  },
  {
   "cell_type": "markdown",
   "id": "dd252b6a-9ed7-46d3-b922-fd304956a9c3",
   "metadata": {},
   "source": [
    "### Infos sur la dataset : https://physionet.org/content/mimiciii/1.4/, https://mimic.mit.edu/"
   ]
  },
  {
   "cell_type": "markdown",
   "id": "846c2f88-5535-4245-9b54-5ea2c3783ffc",
   "metadata": {},
   "source": [
    "26 tables... quelles sont celles qui nous intéresse ? description des tables : https://mimic.mit.edu/docs/iii/tables/\n",
    "\n",
    "### les 2 plus importantes :\n",
    "- PRESCRIPTIONS.csv : médicaments donnés à chaque patient (date de début+fin d'administration)\n",
    "- DIAGNOSES_ICD.csv : maladies diagnostiquées (ICD-9 et patient id)\n",
    "\n",
    "### à savoir : \n",
    "\n",
    "- PATIENTS.csv : répertorie les patients, leur genre, date d'admission+sortie\n",
    "- D_ICD_DIAGNOSES.csv et D_ICD_PROCEDURES.csv : associe le code ICD9 de chaque maladie à son nom (ex:01730 <-> tuberculosis of the eye)\n",
    "- DRGCODES.csv : symptomes de chaque patient (je crois)\n",
    "- MICROBIOLOGYEVENTS.csv : analyses biologiques des patients \n"
   ]
  },
  {
   "cell_type": "code",
   "execution_count": 22,
   "id": "179bdaba-1e95-4b70-a8be-bf894ca21f39",
   "metadata": {},
   "outputs": [],
   "source": [
    "import numpy as np\n",
    "import pandas as pd\n",
    "\n",
    "import matplotlib.pyplot as plt"
   ]
  },
  {
   "cell_type": "markdown",
   "id": "06552dd5-e364-4d0e-8e49-6eaf385ca8f3",
   "metadata": {},
   "source": [
    "## Exploration de la table DIAGNOSES_ICD"
   ]
  },
  {
   "cell_type": "code",
   "execution_count": 23,
   "id": "97987b76-b4c9-4864-94ef-6506fd353217",
   "metadata": {},
   "outputs": [],
   "source": [
    "df = pd.read_csv(\"mimic-iii-complet/DIAGNOSES_ICD.csv\")"
   ]
  },
  {
   "cell_type": "code",
   "execution_count": 24,
   "id": "98daf997-955e-4b8b-a0e1-04b4593c21fa",
   "metadata": {},
   "outputs": [
    {
     "data": {
      "text/html": [
       "<div>\n",
       "<style scoped>\n",
       "    .dataframe tbody tr th:only-of-type {\n",
       "        vertical-align: middle;\n",
       "    }\n",
       "\n",
       "    .dataframe tbody tr th {\n",
       "        vertical-align: top;\n",
       "    }\n",
       "\n",
       "    .dataframe thead th {\n",
       "        text-align: right;\n",
       "    }\n",
       "</style>\n",
       "<table border=\"1\" class=\"dataframe\">\n",
       "  <thead>\n",
       "    <tr style=\"text-align: right;\">\n",
       "      <th></th>\n",
       "      <th>ROW_ID</th>\n",
       "      <th>SUBJECT_ID</th>\n",
       "      <th>HADM_ID</th>\n",
       "      <th>SEQ_NUM</th>\n",
       "      <th>ICD9_CODE</th>\n",
       "    </tr>\n",
       "  </thead>\n",
       "  <tbody>\n",
       "    <tr>\n",
       "      <th>0</th>\n",
       "      <td>1297</td>\n",
       "      <td>109</td>\n",
       "      <td>172335</td>\n",
       "      <td>1.0</td>\n",
       "      <td>40301</td>\n",
       "    </tr>\n",
       "    <tr>\n",
       "      <th>1</th>\n",
       "      <td>1298</td>\n",
       "      <td>109</td>\n",
       "      <td>172335</td>\n",
       "      <td>2.0</td>\n",
       "      <td>486</td>\n",
       "    </tr>\n",
       "    <tr>\n",
       "      <th>2</th>\n",
       "      <td>1299</td>\n",
       "      <td>109</td>\n",
       "      <td>172335</td>\n",
       "      <td>3.0</td>\n",
       "      <td>58281</td>\n",
       "    </tr>\n",
       "    <tr>\n",
       "      <th>3</th>\n",
       "      <td>1300</td>\n",
       "      <td>109</td>\n",
       "      <td>172335</td>\n",
       "      <td>4.0</td>\n",
       "      <td>5855</td>\n",
       "    </tr>\n",
       "    <tr>\n",
       "      <th>4</th>\n",
       "      <td>1301</td>\n",
       "      <td>109</td>\n",
       "      <td>172335</td>\n",
       "      <td>5.0</td>\n",
       "      <td>4254</td>\n",
       "    </tr>\n",
       "  </tbody>\n",
       "</table>\n",
       "</div>"
      ],
      "text/plain": [
       "   ROW_ID  SUBJECT_ID  HADM_ID  SEQ_NUM ICD9_CODE\n",
       "0    1297         109   172335      1.0     40301\n",
       "1    1298         109   172335      2.0       486\n",
       "2    1299         109   172335      3.0     58281\n",
       "3    1300         109   172335      4.0      5855\n",
       "4    1301         109   172335      5.0      4254"
      ]
     },
     "execution_count": 24,
     "metadata": {},
     "output_type": "execute_result"
    }
   ],
   "source": [
    "df.head()"
   ]
  },
  {
   "cell_type": "code",
   "execution_count": 25,
   "id": "bff0210b-4857-4db0-8b22-d138c358557a",
   "metadata": {},
   "outputs": [
    {
     "data": {
      "text/plain": [
       "(651047, 5)"
      ]
     },
     "execution_count": 25,
     "metadata": {},
     "output_type": "execute_result"
    }
   ],
   "source": [
    "df.shape"
   ]
  },
  {
   "cell_type": "markdown",
   "id": "47f08cf6-5ab2-494e-a0bc-ed6e58dd8a62",
   "metadata": {},
   "source": [
    "#### cb de maladies différentes ? 6984 maladies pour 46520 patients"
   ]
  },
  {
   "cell_type": "code",
   "execution_count": 27,
   "id": "ae200a99-b54b-4ead-8bc3-d75b3a03e2fd",
   "metadata": {},
   "outputs": [
    {
     "data": {
      "text/plain": [
       "6984"
      ]
     },
     "execution_count": 27,
     "metadata": {},
     "output_type": "execute_result"
    }
   ],
   "source": [
    "df['ICD9_CODE'].nunique()"
   ]
  },
  {
   "cell_type": "code",
   "execution_count": 28,
   "id": "53cf4c99-31d2-4996-90c0-34a47232ea97",
   "metadata": {},
   "outputs": [
    {
     "data": {
      "text/plain": [
       "46520"
      ]
     },
     "execution_count": 28,
     "metadata": {},
     "output_type": "execute_result"
    }
   ],
   "source": [
    "df['SUBJECT_ID'].nunique()"
   ]
  },
  {
   "cell_type": "markdown",
   "id": "e49fbf06-d778-4417-aedb-bd092326b6d8",
   "metadata": {},
   "source": [
    "#### repartition de ces maladies ?"
   ]
  },
  {
   "cell_type": "code",
   "execution_count": 74,
   "id": "44992136-65a0-4aac-a95f-1cd04369b093",
   "metadata": {},
   "outputs": [
    {
     "data": {
      "text/plain": [
       "4019     20703\n",
       "4280     13111\n",
       "42731    12891\n",
       "41401    12429\n",
       "5849      9119\n",
       "25000     9058\n",
       "2724      8690\n",
       "51881     7497\n",
       "5990      6555\n",
       "53081     6326\n",
       "2720      5930\n",
       "V053      5779\n",
       "V290      5519\n",
       "2859      5406\n",
       "2449      4917\n",
       "486       4839\n",
       "2851      4552\n",
       "2762      4528\n",
       "496       4431\n",
       "99592     3912\n",
       "V5861     3806\n",
       "0389      3725\n",
       "5070      3680\n",
       "V3000     3566\n",
       "5859      3435\n",
       "311       3431\n",
       "40390     3421\n",
       "3051      3358\n",
       "412       3278\n",
       "2875      3065\n",
       "Name: ICD9_CODE, dtype: int64"
      ]
     },
     "execution_count": 74,
     "metadata": {},
     "output_type": "execute_result"
    }
   ],
   "source": [
    "dp = df['ICD9_CODE'].value_counts()\n",
    "dp.head(30)"
   ]
  },
  {
   "cell_type": "code",
   "execution_count": 30,
   "id": "296e1297-cd26-4589-bdf6-b42af0f9c6d7",
   "metadata": {},
   "outputs": [
    {
     "data": {
      "text/plain": [
       "False    5481\n",
       "True     1503\n",
       "Name: ICD9_CODE, dtype: int64"
      ]
     },
     "execution_count": 30,
     "metadata": {},
     "output_type": "execute_result"
    }
   ],
   "source": [
    "(dp==1).value_counts()"
   ]
  },
  {
   "cell_type": "markdown",
   "id": "70de4e5f-e130-4d38-9c9c-cebd78ab1a21",
   "metadata": {},
   "source": [
    "#### -> bcp de ces maladies (1500) n'apparaissent qu'une fois dans la base"
   ]
  },
  {
   "cell_type": "code",
   "execution_count": 31,
   "id": "12eb857c-ccd0-4f87-b211-f14b44489e99",
   "metadata": {},
   "outputs": [
    {
     "data": {
      "text/plain": [
       "False    3874\n",
       "True     3110\n",
       "Name: ICD9_CODE, dtype: int64"
      ]
     },
     "execution_count": 31,
     "metadata": {},
     "output_type": "execute_result"
    }
   ],
   "source": [
    "(dp<5).value_counts()"
   ]
  },
  {
   "cell_type": "markdown",
   "id": "662648b8-61fa-4cc2-bae5-c5b723fb7505",
   "metadata": {},
   "source": [
    "#### -> la moitié de ces maladies (3100) apparaissent moins de 5 fois dans la base"
   ]
  },
  {
   "cell_type": "code",
   "execution_count": 77,
   "id": "96b3466a-7461-46a0-86a2-a95ea8411545",
   "metadata": {},
   "outputs": [
    {
     "data": {
      "text/plain": [
       "True     6103\n",
       "False     881\n",
       "Name: ICD9_CODE, dtype: int64"
      ]
     },
     "execution_count": 77,
     "metadata": {},
     "output_type": "execute_result"
    }
   ],
   "source": [
    "(dp<100).value_counts()"
   ]
  },
  {
   "cell_type": "markdown",
   "id": "c3f53478-322d-403f-b441-cb87ffa4febc",
   "metadata": {},
   "source": [
    "#### -> 86% des maladies apparaissent moins de 100 fois dans la base"
   ]
  },
  {
   "cell_type": "markdown",
   "id": "1a2e7b86-984f-4eb2-b868-6e55b75bbef8",
   "metadata": {},
   "source": [
    "## Exploration de la table D_ICD_DIAGNOSES"
   ]
  },
  {
   "cell_type": "code",
   "execution_count": 40,
   "id": "591951a9-5386-45ea-a4cc-6638e84171c2",
   "metadata": {},
   "outputs": [],
   "source": [
    "icd_diagnoses = pd.read_csv(\"mimic-iii/D_ICD_DIAGNOSES.csv\")"
   ]
  },
  {
   "cell_type": "code",
   "execution_count": 41,
   "id": "eec2a596-2b7d-469b-9f79-f828ac0c85b6",
   "metadata": {},
   "outputs": [
    {
     "data": {
      "text/html": [
       "<div>\n",
       "<style scoped>\n",
       "    .dataframe tbody tr th:only-of-type {\n",
       "        vertical-align: middle;\n",
       "    }\n",
       "\n",
       "    .dataframe tbody tr th {\n",
       "        vertical-align: top;\n",
       "    }\n",
       "\n",
       "    .dataframe thead th {\n",
       "        text-align: right;\n",
       "    }\n",
       "</style>\n",
       "<table border=\"1\" class=\"dataframe\">\n",
       "  <thead>\n",
       "    <tr style=\"text-align: right;\">\n",
       "      <th></th>\n",
       "      <th>row_id</th>\n",
       "      <th>icd9_code</th>\n",
       "      <th>short_title</th>\n",
       "      <th>long_title</th>\n",
       "    </tr>\n",
       "  </thead>\n",
       "  <tbody>\n",
       "    <tr>\n",
       "      <th>0</th>\n",
       "      <td>1</td>\n",
       "      <td>01716</td>\n",
       "      <td>Erythem nod tb-oth test</td>\n",
       "      <td>Erythema nodosum with hypersensitivity reactio...</td>\n",
       "    </tr>\n",
       "    <tr>\n",
       "      <th>1</th>\n",
       "      <td>2</td>\n",
       "      <td>01720</td>\n",
       "      <td>TB periph lymph-unspec</td>\n",
       "      <td>Tuberculosis of peripheral lymph nodes, unspec...</td>\n",
       "    </tr>\n",
       "    <tr>\n",
       "      <th>2</th>\n",
       "      <td>3</td>\n",
       "      <td>01721</td>\n",
       "      <td>TB periph lymph-no exam</td>\n",
       "      <td>Tuberculosis of peripheral lymph nodes, bacter...</td>\n",
       "    </tr>\n",
       "    <tr>\n",
       "      <th>3</th>\n",
       "      <td>4</td>\n",
       "      <td>01722</td>\n",
       "      <td>TB periph lymph-exam unk</td>\n",
       "      <td>Tuberculosis of peripheral lymph nodes, bacter...</td>\n",
       "    </tr>\n",
       "    <tr>\n",
       "      <th>4</th>\n",
       "      <td>5</td>\n",
       "      <td>01723</td>\n",
       "      <td>TB periph lymph-micro dx</td>\n",
       "      <td>Tuberculosis of peripheral lymph nodes, tuberc...</td>\n",
       "    </tr>\n",
       "  </tbody>\n",
       "</table>\n",
       "</div>"
      ],
      "text/plain": [
       "   row_id icd9_code               short_title  \\\n",
       "0       1     01716   Erythem nod tb-oth test   \n",
       "1       2     01720    TB periph lymph-unspec   \n",
       "2       3     01721   TB periph lymph-no exam   \n",
       "3       4     01722  TB periph lymph-exam unk   \n",
       "4       5     01723  TB periph lymph-micro dx   \n",
       "\n",
       "                                          long_title  \n",
       "0  Erythema nodosum with hypersensitivity reactio...  \n",
       "1  Tuberculosis of peripheral lymph nodes, unspec...  \n",
       "2  Tuberculosis of peripheral lymph nodes, bacter...  \n",
       "3  Tuberculosis of peripheral lymph nodes, bacter...  \n",
       "4  Tuberculosis of peripheral lymph nodes, tuberc...  "
      ]
     },
     "execution_count": 41,
     "metadata": {},
     "output_type": "execute_result"
    }
   ],
   "source": [
    "icd_diagnoses.head()"
   ]
  },
  {
   "cell_type": "code",
   "execution_count": 61,
   "id": "446fc28a-3658-4a7d-8f20-22b7ed1ebc04",
   "metadata": {},
   "outputs": [
    {
     "data": {
      "text/html": [
       "<div>\n",
       "<style scoped>\n",
       "    .dataframe tbody tr th:only-of-type {\n",
       "        vertical-align: middle;\n",
       "    }\n",
       "\n",
       "    .dataframe tbody tr th {\n",
       "        vertical-align: top;\n",
       "    }\n",
       "\n",
       "    .dataframe thead th {\n",
       "        text-align: right;\n",
       "    }\n",
       "</style>\n",
       "<table border=\"1\" class=\"dataframe\">\n",
       "  <thead>\n",
       "    <tr style=\"text-align: right;\">\n",
       "      <th></th>\n",
       "      <th>row_id</th>\n",
       "      <th>icd9_code</th>\n",
       "      <th>short_title</th>\n",
       "      <th>long_title</th>\n",
       "    </tr>\n",
       "  </thead>\n",
       "  <tbody>\n",
       "    <tr>\n",
       "      <th>4303</th>\n",
       "      <td>4304</td>\n",
       "      <td>4019</td>\n",
       "      <td>Hypertension NOS</td>\n",
       "      <td>Unspecified essential hypertension</td>\n",
       "    </tr>\n",
       "  </tbody>\n",
       "</table>\n",
       "</div>"
      ],
      "text/plain": [
       "      row_id icd9_code       short_title                          long_title\n",
       "4303    4304      4019  Hypertension NOS  Unspecified essential hypertension"
      ]
     },
     "execution_count": 61,
     "metadata": {},
     "output_type": "execute_result"
    }
   ],
   "source": [
    "icd_diagnoses[icd_diagnoses[\"icd9_code\"] == \"4019\"]"
   ]
  },
  {
   "cell_type": "code",
   "execution_count": 62,
   "id": "d6cb8f55-7fe9-4570-a0a9-1db548b26c58",
   "metadata": {},
   "outputs": [
    {
     "data": {
      "text/html": [
       "<div>\n",
       "<style scoped>\n",
       "    .dataframe tbody tr th:only-of-type {\n",
       "        vertical-align: middle;\n",
       "    }\n",
       "\n",
       "    .dataframe tbody tr th {\n",
       "        vertical-align: top;\n",
       "    }\n",
       "\n",
       "    .dataframe thead th {\n",
       "        text-align: right;\n",
       "    }\n",
       "</style>\n",
       "<table border=\"1\" class=\"dataframe\">\n",
       "  <thead>\n",
       "    <tr style=\"text-align: right;\">\n",
       "      <th></th>\n",
       "      <th>row_id</th>\n",
       "      <th>icd9_code</th>\n",
       "      <th>short_title</th>\n",
       "      <th>long_title</th>\n",
       "    </tr>\n",
       "  </thead>\n",
       "  <tbody>\n",
       "    <tr>\n",
       "      <th>4472</th>\n",
       "      <td>4473</td>\n",
       "      <td>4280</td>\n",
       "      <td>CHF NOS</td>\n",
       "      <td>Congestive heart failure, unspecified</td>\n",
       "    </tr>\n",
       "  </tbody>\n",
       "</table>\n",
       "</div>"
      ],
      "text/plain": [
       "      row_id icd9_code short_title                             long_title\n",
       "4472    4473      4280     CHF NOS  Congestive heart failure, unspecified"
      ]
     },
     "execution_count": 62,
     "metadata": {},
     "output_type": "execute_result"
    }
   ],
   "source": [
    "icd_diagnoses[icd_diagnoses[\"icd9_code\"] == \"4280\"]"
   ]
  },
  {
   "cell_type": "code",
   "execution_count": 63,
   "id": "c3ba08bc-95f5-4c72-b935-0c0e3bb4b728",
   "metadata": {},
   "outputs": [
    {
     "data": {
      "text/html": [
       "<div>\n",
       "<style scoped>\n",
       "    .dataframe tbody tr th:only-of-type {\n",
       "        vertical-align: middle;\n",
       "    }\n",
       "\n",
       "    .dataframe tbody tr th {\n",
       "        vertical-align: top;\n",
       "    }\n",
       "\n",
       "    .dataframe thead th {\n",
       "        text-align: right;\n",
       "    }\n",
       "</style>\n",
       "<table border=\"1\" class=\"dataframe\">\n",
       "  <thead>\n",
       "    <tr style=\"text-align: right;\">\n",
       "      <th></th>\n",
       "      <th>row_id</th>\n",
       "      <th>icd9_code</th>\n",
       "      <th>short_title</th>\n",
       "      <th>long_title</th>\n",
       "    </tr>\n",
       "  </thead>\n",
       "  <tbody>\n",
       "    <tr>\n",
       "      <th>4461</th>\n",
       "      <td>4462</td>\n",
       "      <td>42731</td>\n",
       "      <td>Atrial fibrillation</td>\n",
       "      <td>Atrial fibrillation</td>\n",
       "    </tr>\n",
       "  </tbody>\n",
       "</table>\n",
       "</div>"
      ],
      "text/plain": [
       "      row_id icd9_code          short_title           long_title\n",
       "4461    4462     42731  Atrial fibrillation  Atrial fibrillation"
      ]
     },
     "execution_count": 63,
     "metadata": {},
     "output_type": "execute_result"
    }
   ],
   "source": [
    "icd_diagnoses[icd_diagnoses[\"icd9_code\"] == \"42731\"]"
   ]
  },
  {
   "cell_type": "code",
   "execution_count": 64,
   "id": "d4456833-7ff7-461a-ac51-e7e735daa168",
   "metadata": {},
   "outputs": [
    {
     "data": {
      "text/html": [
       "<div>\n",
       "<style scoped>\n",
       "    .dataframe tbody tr th:only-of-type {\n",
       "        vertical-align: middle;\n",
       "    }\n",
       "\n",
       "    .dataframe tbody tr th {\n",
       "        vertical-align: top;\n",
       "    }\n",
       "\n",
       "    .dataframe thead th {\n",
       "        text-align: right;\n",
       "    }\n",
       "</style>\n",
       "<table border=\"1\" class=\"dataframe\">\n",
       "  <thead>\n",
       "    <tr style=\"text-align: right;\">\n",
       "      <th></th>\n",
       "      <th>row_id</th>\n",
       "      <th>icd9_code</th>\n",
       "      <th>short_title</th>\n",
       "      <th>long_title</th>\n",
       "    </tr>\n",
       "  </thead>\n",
       "  <tbody>\n",
       "    <tr>\n",
       "      <th>4373</th>\n",
       "      <td>4374</td>\n",
       "      <td>41401</td>\n",
       "      <td>Crnry athrscl natve vssl</td>\n",
       "      <td>Coronary atherosclerosis of native coronary ar...</td>\n",
       "    </tr>\n",
       "  </tbody>\n",
       "</table>\n",
       "</div>"
      ],
      "text/plain": [
       "      row_id icd9_code               short_title  \\\n",
       "4373    4374     41401  Crnry athrscl natve vssl   \n",
       "\n",
       "                                             long_title  \n",
       "4373  Coronary atherosclerosis of native coronary ar...  "
      ]
     },
     "execution_count": 64,
     "metadata": {},
     "output_type": "execute_result"
    }
   ],
   "source": [
    "icd_diagnoses[icd_diagnoses[\"icd9_code\"] == \"41401\"]"
   ]
  },
  {
   "cell_type": "markdown",
   "id": "81bbbe09-ed43-421c-bc79-dfa32ba63c03",
   "metadata": {},
   "source": [
    "## Exploration de la table PATIENTS"
   ]
  },
  {
   "cell_type": "code",
   "execution_count": 32,
   "id": "1a0c9dc7-6f46-4688-a8fe-2efc9ff23516",
   "metadata": {},
   "outputs": [],
   "source": [
    "patients = pd.read_csv(\"mimic-iii-complet/PATIENTS.csv\")"
   ]
  },
  {
   "cell_type": "code",
   "execution_count": 35,
   "id": "66e834e5-e378-4c6b-b194-0bced9128857",
   "metadata": {},
   "outputs": [
    {
     "data": {
      "text/html": [
       "<div>\n",
       "<style scoped>\n",
       "    .dataframe tbody tr th:only-of-type {\n",
       "        vertical-align: middle;\n",
       "    }\n",
       "\n",
       "    .dataframe tbody tr th {\n",
       "        vertical-align: top;\n",
       "    }\n",
       "\n",
       "    .dataframe thead th {\n",
       "        text-align: right;\n",
       "    }\n",
       "</style>\n",
       "<table border=\"1\" class=\"dataframe\">\n",
       "  <thead>\n",
       "    <tr style=\"text-align: right;\">\n",
       "      <th></th>\n",
       "      <th>ROW_ID</th>\n",
       "      <th>SUBJECT_ID</th>\n",
       "      <th>GENDER</th>\n",
       "      <th>DOB</th>\n",
       "      <th>DOD</th>\n",
       "      <th>DOD_HOSP</th>\n",
       "      <th>DOD_SSN</th>\n",
       "      <th>EXPIRE_FLAG</th>\n",
       "    </tr>\n",
       "  </thead>\n",
       "  <tbody>\n",
       "    <tr>\n",
       "      <th>0</th>\n",
       "      <td>234</td>\n",
       "      <td>249</td>\n",
       "      <td>F</td>\n",
       "      <td>2075-03-13 00:00:00</td>\n",
       "      <td>NaN</td>\n",
       "      <td>NaN</td>\n",
       "      <td>NaN</td>\n",
       "      <td>0</td>\n",
       "    </tr>\n",
       "    <tr>\n",
       "      <th>1</th>\n",
       "      <td>235</td>\n",
       "      <td>250</td>\n",
       "      <td>F</td>\n",
       "      <td>2164-12-27 00:00:00</td>\n",
       "      <td>2188-11-22 00:00:00</td>\n",
       "      <td>2188-11-22 00:00:00</td>\n",
       "      <td>NaN</td>\n",
       "      <td>1</td>\n",
       "    </tr>\n",
       "    <tr>\n",
       "      <th>2</th>\n",
       "      <td>236</td>\n",
       "      <td>251</td>\n",
       "      <td>M</td>\n",
       "      <td>2090-03-15 00:00:00</td>\n",
       "      <td>NaN</td>\n",
       "      <td>NaN</td>\n",
       "      <td>NaN</td>\n",
       "      <td>0</td>\n",
       "    </tr>\n",
       "    <tr>\n",
       "      <th>3</th>\n",
       "      <td>237</td>\n",
       "      <td>252</td>\n",
       "      <td>M</td>\n",
       "      <td>2078-03-06 00:00:00</td>\n",
       "      <td>NaN</td>\n",
       "      <td>NaN</td>\n",
       "      <td>NaN</td>\n",
       "      <td>0</td>\n",
       "    </tr>\n",
       "    <tr>\n",
       "      <th>4</th>\n",
       "      <td>238</td>\n",
       "      <td>253</td>\n",
       "      <td>F</td>\n",
       "      <td>2089-11-26 00:00:00</td>\n",
       "      <td>NaN</td>\n",
       "      <td>NaN</td>\n",
       "      <td>NaN</td>\n",
       "      <td>0</td>\n",
       "    </tr>\n",
       "  </tbody>\n",
       "</table>\n",
       "</div>"
      ],
      "text/plain": [
       "   ROW_ID  SUBJECT_ID GENDER                  DOB                  DOD  \\\n",
       "0     234         249      F  2075-03-13 00:00:00                  NaN   \n",
       "1     235         250      F  2164-12-27 00:00:00  2188-11-22 00:00:00   \n",
       "2     236         251      M  2090-03-15 00:00:00                  NaN   \n",
       "3     237         252      M  2078-03-06 00:00:00                  NaN   \n",
       "4     238         253      F  2089-11-26 00:00:00                  NaN   \n",
       "\n",
       "              DOD_HOSP DOD_SSN  EXPIRE_FLAG  \n",
       "0                  NaN     NaN            0  \n",
       "1  2188-11-22 00:00:00     NaN            1  \n",
       "2                  NaN     NaN            0  \n",
       "3                  NaN     NaN            0  \n",
       "4                  NaN     NaN            0  "
      ]
     },
     "execution_count": 35,
     "metadata": {},
     "output_type": "execute_result"
    }
   ],
   "source": [
    "patients.head()"
   ]
  },
  {
   "cell_type": "code",
   "execution_count": 36,
   "id": "217a2a22-7bec-4cdd-8964-8f8c2e9cad96",
   "metadata": {},
   "outputs": [
    {
     "data": {
      "text/plain": [
       "46520"
      ]
     },
     "execution_count": 36,
     "metadata": {},
     "output_type": "execute_result"
    }
   ],
   "source": [
    "patients[\"SUBJECT_ID\"].nunique()"
   ]
  },
  {
   "cell_type": "markdown",
   "id": "94fd73f7-4e6b-4c16-96bc-42c634b3e5fd",
   "metadata": {},
   "source": [
    "#### -> chaque patient a une maladie"
   ]
  },
  {
   "cell_type": "code",
   "execution_count": null,
   "id": "7f733de8-8a60-4dcd-ba9a-acbbee7d7c05",
   "metadata": {},
   "outputs": [],
   "source": []
  },
  {
   "cell_type": "markdown",
   "id": "e5210bb9-70c6-4269-8002-bf1945d9a7ab",
   "metadata": {},
   "source": [
    "# ML"
   ]
  },
  {
   "cell_type": "markdown",
   "id": "4e867ca8-582b-4fbb-94e9-c8751f5ed286",
   "metadata": {},
   "source": [
    "https://github.com/MLforHealth/MIMIC_Extract/tree/master/notebooks : Baselines for Mortality and LOS prediction (sklearn)"
   ]
  },
  {
   "cell_type": "code",
   "execution_count": null,
   "id": "b60163a1-4d1d-4938-99fd-86db7bb184d2",
   "metadata": {},
   "outputs": [],
   "source": []
  }
 ],
 "metadata": {
  "kernelspec": {
   "display_name": "Python 3 (ipykernel)",
   "language": "python",
   "name": "python3"
  },
  "language_info": {
   "codemirror_mode": {
    "name": "ipython",
    "version": 3
   },
   "file_extension": ".py",
   "mimetype": "text/x-python",
   "name": "python",
   "nbconvert_exporter": "python",
   "pygments_lexer": "ipython3",
   "version": "3.10.6"
  }
 },
 "nbformat": 4,
 "nbformat_minor": 5
}
